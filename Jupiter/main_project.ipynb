{
 "cells": [
  {
   "cell_type": "code",
   "execution_count": 46,
   "outputs": [],
   "source": [
    "import time\n",
    "from math import cos, pi, exp\n",
    "import numpy\n",
    "from numba import njit\n",
    "import matplotlib.pyplot as plt"
   ],
   "metadata": {
    "collapsed": false,
    "pycharm": {
     "name": "#%%\n"
    }
   }
  },
  {
   "cell_type": "code",
   "execution_count": 47,
   "outputs": [],
   "source": [
    "y = 5\n",
    "n_args_count = 1  # количество x-ов, подаваемых в тестовую функцию\n",
    "iter_max = 500  # больше 500 не нужно\n",
    "number_of_agents = 50  # количество агентов популяции (20-40-50 должно быть)\n",
    "max_weight = 50  # максимальный вес рыбы\n"
   ],
   "metadata": {
    "collapsed": false,
    "pycharm": {
     "name": "#%%\n"
    }
   }
  },
  {
   "cell_type": "code",
   "execution_count": 48,
   "outputs": [],
   "source": [
    "@njit()\n",
    "def f(x):  # Тестовая функция Растригина\n",
    "    A = 10\n",
    "    result = 0\n",
    "    for i in x:\n",
    "        result += i ** 2 - A * cos(2 * pi * i)\n",
    "    result += A * len(x)\n",
    "\n",
    "    return result\n"
   ],
   "metadata": {
    "collapsed": false,
    "pycharm": {
     "name": "#%%\n"
    }
   }
  },
  {
   "cell_type": "code",
   "execution_count": 49,
   "outputs": [],
   "source": [
    "@njit()\n",
    "def generate_agents():\n",
    "    result = numpy.zeros((number_of_agents, n_args_count))\n",
    "    for i in range(number_of_agents):\n",
    "        result[i] = numpy.random.uniform(-5.12, 5.12, n_args_count)\n",
    "    return result\n"
   ],
   "metadata": {
    "collapsed": false,
    "pycharm": {
     "name": "#%%\n"
    }
   }
  },
  {
   "cell_type": "code",
   "execution_count": 50,
   "outputs": [],
   "source": [
    "@njit()\n",
    "def main_function():\n",
    "    step_ind = list()\n",
    "    step_vol = list()\n",
    "    p_qbest_list = list()  # массив p_qbest в разные моменты поколений\n",
    "    # step_ind.append(float(input(\"Введите макс размер шага индивидуального перемещения: \")))\n",
    "    # step_vol.append(float(input(\"Введите макс размер шага коллективно-волевого перемещения: \")))\n",
    "    step_ind.append(0.05)\n",
    "    step_vol.append(0.05)\n",
    "    w = list()\n",
    "    w.append(numpy.zeros(number_of_agents) + max_weight / 2)\n",
    "\n",
    "    t = 0  # текущий номер поколения\n",
    "    P = list()  # Начальная популяция\n",
    "    P.append(generate_agents())  # Случано сгенерированное текущее поколение\n",
    "    p_qbest = P[t][0]\n",
    "    for i in P[t]:\n",
    "        if f(p_qbest) > f(i):\n",
    "            p_qbest = i\n",
    "    p_qbest_list.append(p_qbest)\n",
    "\n",
    "    f_t = list()\n",
    "    f_min = f(P[t][0])\n",
    "    f_t.append(f_min)\n",
    "    for i in range(1, number_of_agents):\n",
    "        f_I = f(P[t][i])\n",
    "        if f_I < f_min:\n",
    "            f_min = f_I\n",
    "            p_qbest = P[t][i]\n",
    "        f_t.append(f_I)\n",
    "\n",
    "    # значение функции для каждого агента\n",
    "    F = [numpy.array(f_t)]\n",
    "    # макс кол-во иттераций\n",
    "    # критерий останова может быть и другим\n",
    "    # t не только как поколение, но и кол-во иттераций\n",
    "    while t < iter_max - 1:\n",
    "        t += 1\n",
    "        step_ind.append(step_ind[0] * exp(-y * t / iter_max))\n",
    "        step_vol.append(step_vol[0] * exp(-y * t / iter_max))\n",
    "\n",
    "        P.append(numpy.copy(P[t - 1]))\n",
    "        w.append(numpy.copy(w[t - 1]))\n",
    "        F.append(numpy.zeros(number_of_agents))\n",
    "        # для каждого агента выполнить\n",
    "        for i in range(number_of_agents):\n",
    "            # спросить про r1 и r2, сколько в них значений\n",
    "            r1 = numpy.random.uniform(0, 1, n_args_count)\n",
    "\n",
    "            P[t][i] += (r1 * step_ind[t])\n",
    "\n",
    "            F[t][i] = f(P[t][i])  # значение f для P_it\n",
    "            if F[t][i] >= F[t - 1][i]:\n",
    "                P[t][i] = P[t - 1][i]\n",
    "                F[t][i] = f(P[t][i])\n",
    "\n",
    "        for i in range(number_of_agents):\n",
    "            if max(F[t] - F[t - 1]):\n",
    "                # кормление\n",
    "                w[t][i] += (F[t][i] - F[t - 1][i]) / (max(F[t] - F[t - 1]))\n",
    "\n",
    "        # вычисляем вектор коллективно-инстинктивного перемещения\n",
    "        I_t = numpy.zeros(n_args_count)\n",
    "\n",
    "        delta_F = numpy.zeros(number_of_agents)\n",
    "        P_mul_F = numpy.zeros(\n",
    "            (number_of_agents, n_args_count))\n",
    "\n",
    "        for i in range(number_of_agents):\n",
    "            delta_F[i] = F[t][i] - F[t - 1][i]\n",
    "            P_mul_F[i] = (P[t][i] - P[t - 1][i]) * delta_F[i]\n",
    "\n",
    "        for j in range(n_args_count):\n",
    "            s = 0\n",
    "            for i in range(number_of_agents):\n",
    "                s += P_mul_F[i][j]\n",
    "            I_t[j] = s\n",
    "        I_t /= sum(delta_F)\n",
    "        # Применяем оператор коллективно-инстинктивного перемещения к каждому агенту\n",
    "        P[t] += I_t\n",
    "\n",
    "        # Вычисляем Бариоцентр\n",
    "        B_t = numpy.zeros(n_args_count)\n",
    "        for j in range(n_args_count):\n",
    "            sm = 0\n",
    "            for i in range(number_of_agents):\n",
    "                sm += P[t][i][j] * w[t][i]\n",
    "            B_t[j] = sm\n",
    "        sm2 = 0\n",
    "        for i in range(number_of_agents):\n",
    "            sm2 += w[t][i]\n",
    "        B_t /= sm2\n",
    "\n",
    "        # для каждого агента выполнять\n",
    "        for i in range(number_of_agents):\n",
    "            r2 = numpy.random.uniform(0, 1, n_args_count)\n",
    "            if sum(w[t]) > sum(w[t - 1]):\n",
    "                for j in range(len(P[t][0])):\n",
    "                    P[t][i][j] -= step_vol[t] * r2[j] * (P[t][i][j] - B_t[j]) / abs((P[t][i][j] - B_t[j]))\n",
    "            else:\n",
    "                for j in range(len(P[t][0])):\n",
    "                    P[t][i][j] += step_vol[t] * r2[j] * (P[t][i][j] - B_t[j]) / abs((P[t][i][j] - B_t[j]))\n",
    "\n",
    "        for i in P[t]:\n",
    "            if f(p_qbest) > f(i):\n",
    "                p_qbest = i\n",
    "        p_qbest_list.append(p_qbest)\n",
    "\n",
    "    return p_qbest_list"
   ],
   "metadata": {
    "collapsed": false,
    "pycharm": {
     "name": "#%%\n"
    }
   }
  },
  {
   "cell_type": "code",
   "execution_count": 51,
   "outputs": [
    {
     "name": "stdout",
     "output_type": "stream",
     "text": [
      "Coordinates of p_qbest:\t\t\t[0.00025558]\n",
      "The function value of pqbest:\t1.2959025793790602e-05\n",
      "Algorithm running time:\t\t\t2.6322669982910156 s\n"
     ]
    }
   ],
   "source": [
    "start = time.time()\n",
    "best_lst = main_function()\n",
    "best = best_lst[-1]\n",
    "end = time.time() - start\n",
    "# print(*, sep='\\n')\n",
    "print(f'Coordinates of p_qbest:\\t\\t\\t{best}')\n",
    "print(f'The function value of pqbest:\\t{f(best)}')\n",
    "print(f'Algorithm running time:\\t\\t\\t{end} s')\n"
   ],
   "metadata": {
    "collapsed": false,
    "pycharm": {
     "name": "#%%\n"
    }
   }
  },
  {
   "cell_type": "code",
   "execution_count": 52,
   "outputs": [
    {
     "data": {
      "text/plain": "<Figure size 640x480 with 1 Axes>",
      "image/png": "[encoded data removed]"
     },
     "metadata": {},
     "output_type": "display_data"
    }
   ],
   "source": [
    "f_val = [f(i) for i in best_lst]\n",
    "plt.plot(numpy.arange(iter_max), f_val)\n",
    "plt.xlabel(\"Номер поколения\")\n",
    "plt.ylabel(\"Лучшее значение на данный момент\")\n",
    "plt.title(\"Глобально лучшее решение для всех частиц\")\n",
    "plt.show()"
   ],
   "metadata": {
    "collapsed": false,
    "pycharm": {
     "name": "#%%\n"
    }
   }
  }
 ],
 "metadata": {
  "kernelspec": {
   "name": "pycharm-d293af60",
   "language": "python",
   "display_name": "PyCharm (индивидуальный проект)"
  },
  "language_info": {
   "codemirror_mode": {
    "name": "ipython",
    "version": 2
   },
   "file_extension": ".py",
   "mimetype": "text/x-python",
   "name": "python",
   "nbconvert_exporter": "python",
   "pygments_lexer": "ipython2",
   "version": "2.7.6"
  }
 },
 "nbformat": 4,
 "nbformat_minor": 0
}