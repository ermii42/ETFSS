{
 "cells": [
  {
   "cell_type": "code",
   "execution_count": 664,
   "outputs": [],
   "source": [
    "import time\n",
    "from math import cos, pi, exp, e\n",
    "import numpy\n",
    "from numba import njit, jit\n",
    "import matplotlib.pyplot as plt"
   ],
   "metadata": {
    "collapsed": false,
    "pycharm": {
     "name": "#%%\n"
    }
   }
  },
  {
   "cell_type": "markdown",
   "source": [
    "#Реализация алгоритма ETFSS на Python с использованием Numba"
   ],
   "metadata": {
    "collapsed": false
   }
  },
  {
   "cell_type": "code",
   "execution_count": 665,
   "outputs": [],
   "source": [
    "y = 5\n",
    "n_args_count = 2  # количество x-ов, подаваемых в тестовую функцию\n",
    "iter_max = 500  # больше 500 не нужно\n",
    "number_of_agents = 50  # количество агентов популяции (20-40-50 должно быть)\n",
    "max_weight = 100  # максимальный вес рыбы"
   ],
   "metadata": {
    "collapsed": false,
    "pycharm": {
     "name": "#%%\n"
    }
   }
  },
  {
   "cell_type": "markdown",
   "source": [
    "##Реализация алгоритма"
   ],
   "metadata": {
    "collapsed": false
   }
  },
  {
   "cell_type": "code",
   "execution_count": 666,
   "outputs": [],
   "source": [
    "# @njit()\n",
    "# @jit(nopython=True)\n",
    "def main_function():\n",
    "    step_ind = list()\n",
    "    step_vol = list()\n",
    "    p_qbest_list = list()  # массив p_qbest в разные моменты поколений\n",
    "    # step_ind.append(float(input(\"Введите макс размер шага индивидуального перемещения: \")))\n",
    "    # step_vol.append(float(input(\"Введите макс размер шага коллективно-волевого перемещения: \")))\n",
    "    step_ind.append(1)\n",
    "    step_vol.append(1)\n",
    "    w = list()\n",
    "    w.append(numpy.zeros(number_of_agents) + max_weight / 2)\n",
    "\n",
    "    t = 0  # текущий номер поколения\n",
    "    P = list()  # Начальная популяция\n",
    "    P.append(generate_agents())  # Случано сгенерированное текущее поколение\n",
    "    p_qbest = P[t][0]\n",
    "    for i in P[t]:\n",
    "        if f(p_qbest) > f(i):\n",
    "            p_qbest = i\n",
    "    p_qbest_list.append(p_qbest)\n",
    "\n",
    "    f_t = list()\n",
    "    f_min = f(P[t][0])\n",
    "    for i in range(1, number_of_agents):\n",
    "        f_I = f(P[t][i])\n",
    "        f_t.append(f_I)\n",
    "\n",
    "    # значение функции для каждого агента\n",
    "    F = [numpy.array(f_t)]\n",
    "    # макс кол-во иттераций\n",
    "    # критерий останова может быть и другим\n",
    "    # t не только как поколение, но и кол-во иттераций\n",
    "    while t < iter_max - 1:\n",
    "        t += 1\n",
    "        step_ind.append(step_ind[0] * exp(-y * t / iter_max))\n",
    "        step_vol.append(step_vol[0] * exp(-y * t / iter_max))\n",
    "\n",
    "        P.append(numpy.copy(P[t - 1]))\n",
    "        w.append(numpy.copy(w[t - 1]))\n",
    "        F.append(numpy.zeros(number_of_agents))\n",
    "        # для каждого агента выполнить\n",
    "        for i in range(number_of_agents):\n",
    "            r1 = numpy.random.uniform(0, 1, n_args_count)\n",
    "\n",
    "            P[t][i] += (r1 * step_ind[t])\n",
    "\n",
    "            F[t][i] = f(P[t][i])  # значение f для P_it\n",
    "            if F[t][i] >= F[t - 1][i]:\n",
    "                P[t][i] = P[t - 1][i]\n",
    "                F[t][i] = f(P[t][i])\n",
    "\n",
    "        for i in range(number_of_agents):\n",
    "            if max(F[t] - F[t - 1]):\n",
    "                # кормление\n",
    "                w[t][i] += (F[t][i] - F[t - 1][i]) / (max(F[t] - F[t - 1]))\n",
    "\n",
    "        # вычисляем вектор коллективно-инстинктивного перемещения\n",
    "        I_t = numpy.zeros(n_args_count)\n",
    "\n",
    "        delta_F = numpy.zeros(number_of_agents)\n",
    "        P_mul_F = numpy.zeros(\n",
    "            (number_of_agents, n_args_count))\n",
    "\n",
    "        for i in range(number_of_agents):\n",
    "            delta_F[i] = F[t][i] - F[t - 1][i]\n",
    "            P_mul_F[i] = (P[t][i] - P[t - 1][i]) * delta_F[i]\n",
    "\n",
    "        for j in range(n_args_count):\n",
    "            s = 0\n",
    "            for i in range(number_of_agents):\n",
    "                s += P_mul_F[i][j]\n",
    "            I_t[j] = s\n",
    "        I_t /= sum(delta_F)\n",
    "        # Применяем оператор коллективно-инстинктивного перемещения к каждому агенту\n",
    "        P[t] += I_t\n",
    "\n",
    "        # Вычисляем Бариоцентр\n",
    "        B_t = numpy.zeros(n_args_count)\n",
    "        for j in range(n_args_count):\n",
    "            sm = 0\n",
    "            for i in range(number_of_agents):\n",
    "                sm += P[t][i][j] * w[t][i]\n",
    "            B_t[j] = sm\n",
    "        sm2 = 0\n",
    "        for i in range(number_of_agents):\n",
    "            sm2 += w[t][i]\n",
    "        B_t /= sm2\n",
    "\n",
    "        # для каждого агента выполнять\n",
    "        for i in range(number_of_agents):\n",
    "            r2 = numpy.random.uniform(0, 1, n_args_count)\n",
    "            if sum(w[t]) > sum(w[t - 1]):\n",
    "                for j in range(len(P[t][0])):\n",
    "                    P[t][i][j] -= step_vol[t] * r2[j] * (P[t][i][j] - B_t[j]) / abs((P[t][i][j] - B_t[j]))\n",
    "            else:\n",
    "                for j in range(len(P[t][0])):\n",
    "                    P[t][i][j] += step_vol[t] * r2[j] * (P[t][i][j] - B_t[j]) / abs((P[t][i][j] - B_t[j]))\n",
    "\n",
    "        p_qbest_t = P[t][0]\n",
    "        for i in P[t]:\n",
    "            if f(p_qbest_t) > f(i):\n",
    "                p_qbest_t = i\n",
    "        if f(p_qbest_t) < f(p_qbest):\n",
    "            p_qbest = p_qbest_t\n",
    "        p_qbest_list.append(p_qbest)\n",
    "\n",
    "    return p_qbest_list"
   ],
   "metadata": {
    "collapsed": false,
    "pycharm": {
     "name": "#%%\n"
    }
   }
  },
  {
   "cell_type": "code",
   "execution_count": 667,
   "outputs": [],
   "source": [
    "def draw_graphic(f_val, functon_name):\n",
    "    plt.grid(color=\"black\", linestyle=\"--\", linewidth=0.5)\n",
    "    plt.plot(numpy.arange(iter_max), f_val, color='fuchsia')\n",
    "    plt.xlabel(\"Номер поколения\")\n",
    "    plt.ylabel(\"f(p_qbest)\")\n",
    "    plt.title(f'Тестовая функция {functon_name}')\n",
    "    plt.show()"
   ],
   "metadata": {
    "collapsed": false,
    "pycharm": {
     "name": "#%%\n"
    }
   }
  },
  {
   "cell_type": "code",
   "execution_count": 668,
   "outputs": [],
   "source": [
    "def draw_distribution_graphic(best_values, function_name):\n",
    "    plt.title(\"Распределение для функции \" + function_name)\n",
    "    plt.xlabel(\"Номер теста\")\n",
    "    plt.ylabel(\"Лучшее найденное значение\")\n",
    "    plt.scatter(numpy.arange(10), best_values, c=\"black\")\n",
    "    dispersion = numpy.sqrt(numpy.var(best_values))\n",
    "    plt.plot(numpy.arange(10), numpy.zeros(10), c=\"fuchsia\")\n",
    "    plt.fill_between(numpy.arange(10),\n",
    "                     numpy.zeros(10) - dispersion,\n",
    "                     numpy.zeros(10) + dispersion,\n",
    "                     color=\"fuchsia\",\n",
    "                     alpha=0.2)\n",
    "    plt.show()"
   ],
   "metadata": {
    "collapsed": false,
    "pycharm": {
     "name": "#%%\n"
    }
   }
  },
  {
   "cell_type": "code",
   "execution_count": 669,
   "outputs": [],
   "source": [
    "def start_test(function_name):\n",
    "    best_qbest_tests = list()  # лучшие значения алгоритма в результате 10 запусков\n",
    "    for i in range(10):\n",
    "        start = time.time()\n",
    "        best_lst = main_function()\n",
    "        best = best_lst[-1]\n",
    "        end = time.time() - start\n",
    "        best_qbest_tests.append(f(best))\n",
    "        print(f'------------------------TEST NUMBER: {i + 1}------------------------')\n",
    "        print(f'Coordinates of p_qbest:\\t\\t\\t{best}')\n",
    "        print(f'The function value of pqbest:\\t\\t{f(best)}')\n",
    "        print(f'Algorithm running time:\\t\\t\\t{end} s')\n",
    "        f_val = [f(i) for i in best_lst]\n",
    "        draw_graphic(f_val, function_name)\n",
    "    draw_distribution_graphic(best_qbest_tests, function_name)"
   ],
   "metadata": {
    "collapsed": false,
    "pycharm": {
     "name": "#%%\n"
    }
   }
  },
  {
   "cell_type": "markdown",
   "source": [
    "##Тестовая функция Растригина\n",
    "![picture_of_Rastrigen](src/растригина.png)"
   ],
   "metadata": {
    "collapsed": false
   }
  },
  {
   "cell_type": "code",
   "execution_count": 670,
   "outputs": [],
   "source": [
    "# @njit()\n",
    "# @jit(nopython=True)\n",
    "def f(x):  # Тестовая функция Растригина\n",
    "    A = 10\n",
    "    result = 0\n",
    "    for i in x:\n",
    "        result += i ** 2 - A * cos(2 * pi * i)\n",
    "    result += A * len(x)\n",
    "\n",
    "    return result"
   ],
   "metadata": {
    "collapsed": false,
    "pycharm": {
     "name": "#%%\n"
    }
   }
  },
  {
   "cell_type": "markdown",
   "source": [
    "##Генерация начальных агентов"
   ],
   "metadata": {
    "collapsed": false
   }
  },
  {
   "cell_type": "code",
   "execution_count": 671,
   "outputs": [],
   "source": [
    "# @njit()\n",
    "# @jit(nopython=True)\n",
    "def generate_agents():\n",
    "    result = numpy.zeros((number_of_agents, n_args_count))\n",
    "    for i in range(number_of_agents):\n",
    "        result[i] = numpy.random.uniform(-5.12, 5.12, n_args_count)\n",
    "    return result"
   ],
   "metadata": {
    "collapsed": false,
    "pycharm": {
     "name": "#%%\n"
    }
   }
  },
  {
   "cell_type": "code",
   "execution_count": 672,
   "outputs": [
    {
     "ename": "IndexError",
     "evalue": "index 49 is out of bounds for axis 0 with size 49",
     "output_type": "error",
     "traceback": [
      "\u001B[1;31m---------------------------------------------------------------------------\u001B[0m",
      "\u001B[1;31mIndexError\u001B[0m                                Traceback (most recent call last)",
      "Cell \u001B[1;32mIn[672], line 1\u001B[0m\n\u001B[1;32m----> 1\u001B[0m \u001B[43mstart_test\u001B[49m\u001B[43m(\u001B[49m\u001B[38;5;124;43m\"\u001B[39;49m\u001B[38;5;124;43mРастригина\u001B[39;49m\u001B[38;5;124;43m\"\u001B[39;49m\u001B[43m)\u001B[49m\n",
      "Cell \u001B[1;32mIn[669], line 5\u001B[0m, in \u001B[0;36mstart_test\u001B[1;34m(function_name)\u001B[0m\n\u001B[0;32m      3\u001B[0m \u001B[38;5;28;01mfor\u001B[39;00m i \u001B[38;5;129;01min\u001B[39;00m \u001B[38;5;28mrange\u001B[39m(\u001B[38;5;241m10\u001B[39m):\n\u001B[0;32m      4\u001B[0m     start \u001B[38;5;241m=\u001B[39m time\u001B[38;5;241m.\u001B[39mtime()\n\u001B[1;32m----> 5\u001B[0m     best_lst \u001B[38;5;241m=\u001B[39m \u001B[43mmain_function\u001B[49m\u001B[43m(\u001B[49m\u001B[43m)\u001B[49m\n\u001B[0;32m      6\u001B[0m     best \u001B[38;5;241m=\u001B[39m best_lst[\u001B[38;5;241m-\u001B[39m\u001B[38;5;241m1\u001B[39m]\n\u001B[0;32m      7\u001B[0m     end \u001B[38;5;241m=\u001B[39m time\u001B[38;5;241m.\u001B[39mtime() \u001B[38;5;241m-\u001B[39m start\n",
      "Cell \u001B[1;32mIn[666], line 49\u001B[0m, in \u001B[0;36mmain_function\u001B[1;34m()\u001B[0m\n\u001B[0;32m     46\u001B[0m P[t][i] \u001B[38;5;241m+\u001B[39m\u001B[38;5;241m=\u001B[39m (r1 \u001B[38;5;241m*\u001B[39m step_ind[t])\n\u001B[0;32m     48\u001B[0m F[t][i] \u001B[38;5;241m=\u001B[39m f(P[t][i])  \u001B[38;5;66;03m# значение f для P_it\u001B[39;00m\n\u001B[1;32m---> 49\u001B[0m \u001B[38;5;28;01mif\u001B[39;00m F[t][i] \u001B[38;5;241m>\u001B[39m\u001B[38;5;241m=\u001B[39m \u001B[43mF\u001B[49m\u001B[43m[\u001B[49m\u001B[43mt\u001B[49m\u001B[43m \u001B[49m\u001B[38;5;241;43m-\u001B[39;49m\u001B[43m \u001B[49m\u001B[38;5;241;43m1\u001B[39;49m\u001B[43m]\u001B[49m\u001B[43m[\u001B[49m\u001B[43mi\u001B[49m\u001B[43m]\u001B[49m:\n\u001B[0;32m     50\u001B[0m     P[t][i] \u001B[38;5;241m=\u001B[39m P[t \u001B[38;5;241m-\u001B[39m \u001B[38;5;241m1\u001B[39m][i]\n\u001B[0;32m     51\u001B[0m     F[t][i] \u001B[38;5;241m=\u001B[39m f(P[t][i])\n",
      "\u001B[1;31mIndexError\u001B[0m: index 49 is out of bounds for axis 0 with size 49"
     ]
    }
   ],
   "source": [
    "start_test(\"Растригина\")"
   ],
   "metadata": {
    "collapsed": false,
    "pycharm": {
     "name": "#%%\n"
    }
   }
  },
  {
   "cell_type": "markdown",
   "source": [
    "##Тестовая функция Экли\n",
    "![picture_of_Ekli](src/Экли.png)\n"
   ],
   "metadata": {
    "collapsed": false,
    "pycharm": {
     "name": "#%% md\n"
    }
   }
  },
  {
   "cell_type": "code",
   "execution_count": null,
   "outputs": [],
   "source": [
    "# @njit()\n",
    "# @jit(nopython=True)\n",
    "def f(x):  # Тестовая функция Экли\n",
    "    result = -20 * exp(-0.2 * (0.5 * (x[0] ** 2 + x[1] ** 2)) ** 0.5) \\\n",
    "             - exp(0.5 * (cos(2 * pi * x[0]) + cos(2 * pi * x[1]))) + e + 20\n",
    "    return result"
   ],
   "metadata": {
    "collapsed": false,
    "pycharm": {
     "name": "#%%\n"
    }
   }
  },
  {
   "cell_type": "markdown",
   "source": [
    "##Генерация начальных агентов"
   ],
   "metadata": {
    "collapsed": false
   }
  },
  {
   "cell_type": "code",
   "execution_count": null,
   "outputs": [],
   "source": [
    "# @njit()\n",
    "# @jit(nopython=True)\n",
    "def generate_agents():\n",
    "    result = numpy.zeros((number_of_agents, n_args_count))\n",
    "    for i in range(number_of_agents):\n",
    "        result[i] = numpy.random.uniform(-5, 5, n_args_count)\n",
    "    return result"
   ],
   "metadata": {
    "collapsed": false,
    "pycharm": {
     "name": "#%%\n"
    }
   }
  },
  {
   "cell_type": "code",
   "execution_count": null,
   "outputs": [],
   "source": [
    "start_test(\"Экли\")\n"
   ],
   "metadata": {
    "collapsed": false,
    "pycharm": {
     "name": "#%%\n"
    }
   }
  },
  {
   "cell_type": "markdown",
   "source": [
    "##Тестовая функция Сферы\n",
    "![picture_of_Sphere](src/сфера.png)"
   ],
   "metadata": {
    "collapsed": false
   }
  },
  {
   "cell_type": "code",
   "execution_count": null,
   "outputs": [],
   "source": [
    "# @njit()\n",
    "# @jit(nopython=True)\n",
    "def f(x):  # Тестовая функция Сферы\n",
    "    result = 0\n",
    "    for i in x:\n",
    "        result += i ** 2\n",
    "    return result"
   ],
   "metadata": {
    "collapsed": false,
    "pycharm": {
     "name": "#%%\n"
    }
   }
  },
  {
   "cell_type": "markdown",
   "source": [
    "##Генерация начальных агентов"
   ],
   "metadata": {
    "collapsed": false
   }
  },
  {
   "cell_type": "code",
   "execution_count": null,
   "outputs": [],
   "source": [
    "# @njit()\n",
    "# @jit(nopython=True)\n",
    "def generate_agents():\n",
    "    result = numpy.zeros((number_of_agents, n_args_count))\n",
    "    for i in range(number_of_agents):\n",
    "        result[i] = numpy.random.uniform(-32767, 32767, n_args_count)\n",
    "    return result"
   ],
   "metadata": {
    "collapsed": false,
    "pycharm": {
     "name": "#%%\n"
    }
   }
  },
  {
   "cell_type": "code",
   "execution_count": null,
   "outputs": [],
   "source": [
    "start_test(\"Сферы\")\n"
   ],
   "metadata": {
    "collapsed": false,
    "pycharm": {
     "name": "#%%\n"
    }
   }
  }
 ],
 "metadata": {
  "kernelspec": {
   "name": "pycharm-d293af60",
   "language": "python",
   "display_name": "PyCharm (индивидуальный проект)"
  },
  "language_info": {
   "codemirror_mode": {
    "name": "ipython",
    "version": 2
   },
   "file_extension": ".py",
   "mimetype": "text/x-python",
   "name": "python",
   "nbconvert_exporter": "python",
   "pygments_lexer": "ipython2",
   "version": "2.7.6"
  }
 },
 "nbformat": 4,
 "nbformat_minor": 0
}